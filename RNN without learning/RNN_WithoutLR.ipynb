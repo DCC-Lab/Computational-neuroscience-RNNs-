{
 "cells": [
  {
   "cell_type": "code",
   "execution_count": 2,
   "metadata": {},
   "outputs": [],
   "source": [
    "import numpy as np\n",
    "import matplotlib.pyplot as plt\n",
    "from scipy import linalg\n",
    "from numba import njit"
   ]
  },
  {
   "cell_type": "markdown",
   "metadata": {},
   "source": [
    "**RNN without learning**\n",
    "\n",
    "In this Notebook, we will explore RNN in Neuroscience without learning. The following equation will be use :\n",
    "\n",
    "$\\mathbf{F(x)} = -\\vec{x} + \\sigma[\\mathbf{W}\\vec{x}-\\mu]$\n",
    "\n",
    "Where $\\sigma$ is the sigmoid function : $\\sigma(x) = \\frac{1}{(1+e^{-x})}$.\n",
    "\n",
    "To solve those differentials equations, we will use Runge Kutta of fourth order. NUMBA will also be added to reduce our computation time."
   ]
  },
  {
   "cell_type": "code",
   "execution_count": 35,
   "metadata": {},
   "outputs": [],
   "source": [
    "def dydx(t,x,W, sigma, mu):\n",
    "    return -x + sigma(W @ x - mu)\n",
    "\n",
    "def RK4(t, IC, dydx, W, sigma=lambda x: ((1+np.exp(-x))**(-1)), mu=0):\n",
    "    '''Approximate differential equation with RK methods for matrices\n",
    "    -----------------------\n",
    "    t : time array (np.linspace)\n",
    "    IC : initial condition (in array -> line)\n",
    "    dydx : Function\n",
    "    W : Weight matrix\n",
    "    sigma : Activation function (sigmoid if unspecified)\n",
    "    mu : Activation threshold (0 if unspecified)\n",
    "    ----------------------\n",
    "    '''\n",
    "    n = len(IC)\n",
    "    m = len(t)\n",
    "    res = np.zeros((m, n))   #mxn matrix that contain our values\n",
    "    res[0] = IC  # First line is redefine\n",
    "    dt = (t[-1] - t[0])/m\n",
    "    for i in range(1, m):\n",
    "        k1 = dt * dydx(t[i-1], res[(i-1)], W=W, sigma=sigma, mu=mu)\n",
    "        k2 = dt * dydx(t[i-1] + 0.5 * dt, res[(i-1)] + 0.5 * k1, W=W, sigma=sigma, mu=mu)\n",
    "        k3 = dt * dydx(t[i-1] + 0.5 * dt, res[(i-1)] + 0.5 * k2, W=W, sigma=sigma, mu=mu)\n",
    "        k4 = dt * dydx(t[i-1] + dt, res[(i-1)] + k3, W=W, sigma=sigma, mu=mu)\n",
    "        res[i] = res[i-1] + (k1 + 2*k2 + 2*k3 + k4)/6\n",
    "    \n",
    "    return res"
   ]
  },
  {
   "cell_type": "code",
   "execution_count": 143,
   "metadata": {},
   "outputs": [
    {
     "data": {
      "image/png": "[encoded data removed]",
      "text/plain": [
       "<Figure size 432x288 with 1 Axes>"
      ]
     },
     "metadata": {
      "needs_background": "light"
     },
     "output_type": "display_data"
    }
   ],
   "source": [
    "t = np.linspace(0, 100, 1000)\n",
    "IC_liste = [0] * 100\n",
    "IC = np.array(IC_liste)\n",
    "#W = np.random.randn(2, 2)\n",
    "W = np.array([[1, 5, 7],[3, 1, 7], [1, -2, 0]])\n",
    "W = np.random.randn(100, 100)\n",
    "\n",
    "x = RK4(t=t, IC=IC, W=W, dydx=dydx, mu=2)\n",
    "x1 = x[:,0]\n",
    "x2 = x[:,1]\n",
    "x3 = x[:,2]\n",
    "x4 = x[:,88]\n",
    "\n",
    "#plt.plot(t, x1, \"r-\")\n",
    "#plt.plot(t, x2, \"b-\")\n",
    "plt.plot(t, x4, \"g-\")\n",
    "plt.grid(True)\n",
    "plt.xlabel(r\"$t$\")\n",
    "plt.ylabel(r\"x\")\n",
    "plt.show()"
   ]
  }
 ],
 "metadata": {
  "interpreter": {
   "hash": "e9eaceb9a2ec0e7a70132c062f26382ea71ab72be3751535a08625cae626faf1"
  },
  "kernelspec": {
   "display_name": "Python 3.9.12 64-bit (windows store)",
   "language": "python",
   "name": "python3"
  },
  "language_info": {
   "codemirror_mode": {
    "name": "ipython",
    "version": 3
   },
   "file_extension": ".py",
   "mimetype": "text/x-python",
   "name": "python",
   "nbconvert_exporter": "python",
   "pygments_lexer": "ipython3",
   "version": "3.9.12"
  },
  "orig_nbformat": 4
 },
 "nbformat": 4,
 "nbformat_minor": 2
}
