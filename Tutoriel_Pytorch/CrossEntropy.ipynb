{
 "cells": [
  {
   "cell_type": "markdown",
   "metadata": {},
   "source": [
    "**Softmax**\n",
    "\n",
    "$S(y_i) = \\frac{e^{y_i}}{\\sum e^{y_i}}$"
   ]
  },
  {
   "cell_type": "code",
   "execution_count": 4,
   "metadata": {},
   "outputs": [
    {
     "name": "stdout",
     "output_type": "stream",
     "text": [
      "softmax output [0.65900114 0.24243297 0.09856589]\n",
      "1.0\n"
     ]
    }
   ],
   "source": [
    "import torch\n",
    "import torch.nn as nn\n",
    "import numpy as np\n",
    "\n",
    "def softmax(x):\n",
    "    return np.exp(x) / np.sum(np.exp(x), axis=0)\n",
    "\n",
    "\n",
    "x = np.array([2.0, 1.0, 0.1])\n",
    "output = softmax(x)\n",
    "print(\"softmax output\", output)"
   ]
  },
  {
   "cell_type": "code",
   "execution_count": 13,
   "metadata": {},
   "outputs": [
    {
     "name": "stdout",
     "output_type": "stream",
     "text": [
      "tensor([0.6590, 0.2424, 0.0986])\n"
     ]
    }
   ],
   "source": [
    "# dans PyTorch\n",
    "\n",
    "x = torch.tensor([2.0, 1.0, 0.1])\n",
    "output = torch.softmax(x, dim=0)  # Computes along the first axis\n",
    "print(output)"
   ]
  },
  {
   "cell_type": "markdown",
   "metadata": {},
   "source": [
    "**Cross Entropy**\n",
    "\n",
    "$D(\\hat{Y}, Y) = \\frac{-1}{N}\\cdot \\sum Y_i \\cdot \\log{\\hat{Y}_i}$"
   ]
  },
  {
   "cell_type": "code",
   "execution_count": 18,
   "metadata": {},
   "outputs": [
    {
     "name": "stdout",
     "output_type": "stream",
     "text": [
      "Loss1 numpy : 0.3567\n",
      "Loss2 numoy : 2.3026\n"
     ]
    }
   ],
   "source": [
    "#Avec Numpy\n",
    "def cross_entropy(actual, predicted):\n",
    "    loss = -np.sum(actual * np.log(predicted))\n",
    "    return loss #/ float(np.array(predicted).shape[0])  #Il est possible de diviser par N pour normaliser\n",
    "\n",
    "\n",
    "# Y doit être une \"one-hot encoded\" :\n",
    "# Si classe 0 : [1,0,0]  -> rouge\n",
    "# Si classe 1 : [0,1,0]  -> bleu\n",
    "# Si classe 2 : [0,0,1]  -> vert (par exemple)\n",
    "Y = np.array([1, 0, 0])\n",
    "\n",
    "#y_pred has propabilities\n",
    "y_pred_good = [0.7, 0.2, 0.1]  #Bonne prédiction\n",
    "y_pred_bad =  [0.1, 0.3, 0.6]  #Mauvaise prédiction\n",
    "\n",
    "l1 = cross_entropy(Y, y_pred_good)\n",
    "l2 = cross_entropy(Y, y_pred_bad)\n",
    "\n",
    "print(f\"Loss1 numpy : {l1:.4f}\")\n",
    "print(f\"Loss2 numoy : {l2:.4f}\")"
   ]
  },
  {
   "cell_type": "code",
   "execution_count": 21,
   "metadata": {},
   "outputs": [
    {
     "name": "stdout",
     "output_type": "stream",
     "text": [
      "Loss1 tensor : 0.4170\n",
      "Loss2 tensor : 1.8406\n",
      "tensor([0])\n",
      "tensor([1])\n"
     ]
    }
   ],
   "source": [
    "#Avec PyTorch\n",
    "\n",
    "loss = nn.CrossEntropyLoss()\n",
    "#nn.CrossEntropyLoss() applique déjà nn.LogSoftmax et nn.NLLLoss (negative log likelihood loss)\n",
    "# Y doit être un label et non un One-Hot -> Classe : différents outputs possibles\n",
    "# Y_pred ne doit pas avoir de softmax\n",
    "\n",
    "Y = torch.tensor([0])  #[0] ou [1]\n",
    "# nsamples x nclasses = 1x3\n",
    "y_pred_good = torch.tensor([[2.0, 1.0, 0.1]])  #raw value -> no softmax apply\n",
    "y_pred_bad = torch.tensor([[0.5, 2.0, 0.3]])   #[[classe0, classe1, classe2]]\n",
    "\n",
    "l1 = loss(y_pred_good, Y)\n",
    "l2 = loss(y_pred_bad, Y)\n",
    "\n",
    "print(f\"Loss1 tensor : {l1:.4f}\")\n",
    "print(f\"Loss2 tensor : {l2:.4f}\")\n",
    "\n",
    "\n",
    "_, prediction1 = torch.max(y_pred_good, 1)\n",
    "\n",
    "_, prediction2 = torch.max(y_pred_bad, 1)\n",
    "\n",
    "print(prediction1)  #Return [0] pour classe 0 : ce qui est bien notre Y\n",
    "print(prediction2)  #Return [1] pour classe 1 : ce qui n'est pas notre Y"
   ]
  },
  {
   "cell_type": "markdown",
   "metadata": {},
   "source": [
    "**Les classes**\n",
    "\n",
    "Les classes permettent d'encoder de l'information. Par exemple, on peut encoder des couleurs ainsi:\n",
    "\n",
    "- Classe 0 : [1,0,0] $\\rightarrow$ rouge\n",
    "- Classe 1 : [0,1,0] $\\rightarrow$ bleu\n",
    "- Classe 2 : [0,0,1] $\\rightarrow$ vert\n",
    "\n",
    "Prenons un exemple avec 3 samples et 3 classes:"
   ]
  },
  {
   "cell_type": "code",
   "execution_count": 22,
   "metadata": {},
   "outputs": [
    {
     "name": "stdout",
     "output_type": "stream",
     "text": [
      "tensor([2, 0, 1])\n",
      "tensor([0, 2, 1])\n"
     ]
    }
   ],
   "source": [
    "loss = nn.CrossEntropyLoss()\n",
    "\n",
    "# 3 samples donc 3 classes possibles\n",
    "Y = torch.tensor([2, 0, 1])  #3 classes labels -> La première bonne label est la 2, puis la deuxième est la 0 et finalement la 1\n",
    "\n",
    "#nsample x nclasses = 3x3\n",
    "#Ici, on vient analyser plusieurs samples de classes à prédire\n",
    "\n",
    "y_pred_good = torch.tensor([[0.1,1.0,2.1], [2.0,1.0,0.1], [0.1,3.0,0.1]])   #[[prob_classe 0, prob_classe1, prob_classe2], [...], [...]]\n",
    "y_pred_bad = torch.tensor([[2.1, 1.0, 0.1], [0.1, 1.0, 2.1], [0.1, 3.0, 0.1]])\n",
    "\n",
    "_, prediction1 = torch.max(y_pred_good, 1)\n",
    "\n",
    "_, prediction2 = torch.max(y_pred_bad, 1)\n",
    "\n",
    "print(prediction1)  #Retourne [2,0,1] -> Toutes les classes ont bien étés prédits\n",
    "print(prediction2)  #Retourne [0,2,1] -> Aucune classe prédit"
   ]
  },
  {
   "cell_type": "markdown",
   "metadata": {},
   "source": [
    "**Code d'activation**\n",
    "Les fonctions d'activations les plus utilisées sont :\n",
    "- Step function\n",
    "- Sigmoid\n",
    "- Tanh\n",
    "- ReLu\n",
    "- Leaky ReLu\n",
    "- Softmax\n",
    "\n",
    "Voici 2 méthodes différentes qui donne le même résultat"
   ]
  },
  {
   "cell_type": "code",
   "execution_count": 23,
   "metadata": {},
   "outputs": [],
   "source": [
    "class NeuralNet(nn.Module):\n",
    "\n",
    "    def __init__(self, input_size, hidden_size):\n",
    "        super(NeuralNet, self).__init__()\n",
    "        self.linear1 = nn.Linear(input_size, hidden_size)  # First linear layer\n",
    "        self.relu = nn.ReLU  # Second layer -> ReLu\n",
    "        self.linear2 = nn.Linear(hidden_size, 1)  #Third layer -> Layer\n",
    "        self.sigmoid = nn.Sigmoid()  #Final layer -> sigmoid\n",
    "#On constate que la layer final est sigmoid. Elle fonctionne bien lorsque la couche précédente\n",
    "#possède un output .... c'est pourquoi nous avons hidden_size=1 pour la third layer\n",
    "\n",
    "    def foward(self, x):\n",
    "        out = self.linear1(x)\n",
    "        out = self.relu(out)\n",
    "        out = self.linear2(out)\n",
    "        out = self.sigmoid(out)\n",
    "        return out\n",
    "\n",
    "\n",
    "class NeuralNet(nn.Module):\n",
    "\n",
    "    def __init__(self, input_size, hidden_size):\n",
    "        super(NeuralNet, self).__init__()\n",
    "        self.linear1 = nn.Linear(input_size, hidden_size)\n",
    "        self.linear2 = nn.Linear(hidden_size, 1)\n",
    "\n",
    "    def foward(self, x):\n",
    "        out = torch.relu(self.linear1(x))\n",
    "        out = torch.sigmoid(self.linear2(out))"
   ]
  },
  {
   "cell_type": "markdown",
   "metadata": {},
   "source": [
    "**Feed Foward Net**"
   ]
  },
  {
   "cell_type": "code",
   "execution_count": 4,
   "metadata": {},
   "outputs": [
    {
     "name": "stdout",
     "output_type": "stream",
     "text": [
      "torch.Size([100, 1, 28, 28]) torch.Size([100])\n"
     ]
    }
   ],
   "source": [
    "import torch\n",
    "import torch.nn\n",
    "import torchvision\n",
    "import torchvision.transforms as transforms\n",
    "import matplotlib_inline\n",
    "import matplotlib.pyplot as plt\n",
    "\n",
    "# Compute on GPU\n",
    "device = torch.device(\"cuda\" if torch.cuda.is_available() else \"cpu\")\n",
    "\n",
    "# hyper parameter \n",
    "input_size = 784  #image size 28x28\n",
    "hidden_size = 100  #choix arbitraire\n",
    "num_classes = 10\n",
    "num_epoch = 2  #pour diminuer temps de training\n",
    "batch_size = 100\n",
    "learning_rate = 0.001\n",
    "\n",
    "#MNIST -> data\n",
    "#train_dataset = torchvision.datasets.MNIST(root=\"\", train=True, transform=transforms.ToTensor(), download=True)\n",
    "#test_dataset = torchvision.datasets.MNIST(root=\"\", train=False, transform=transforms.ToTensor())\n",
    "\n",
    "#train_loader = torch.utils.data.DataLoader(dataset=train_dataset, batch_size=batch_size, shuffle=True)\n",
    "#test_loader = torch.utils.data.DataLoader(dataset=test_dataset, batch_size=batch_size, shuffle=False)\n",
    "\n",
    "#examples = iter(train_loader)\n",
    "#samples, labels = examples.next()\n",
    "\n",
    "print(samples.shape, labels.shape)"
   ]
  }
 ],
 "metadata": {
  "interpreter": {
   "hash": "e9eaceb9a2ec0e7a70132c062f26382ea71ab72be3751535a08625cae626faf1"
  },
  "kernelspec": {
   "display_name": "Python 3.9.12 64-bit (windows store)",
   "language": "python",
   "name": "python3"
  },
  "language_info": {
   "codemirror_mode": {
    "name": "ipython",
    "version": 3
   },
   "file_extension": ".py",
   "mimetype": "text/x-python",
   "name": "python",
   "nbconvert_exporter": "python",
   "pygments_lexer": "ipython3",
   "version": "3.9.12"
  },
  "orig_nbformat": 4
 },
 "nbformat": 4,
 "nbformat_minor": 2
}
